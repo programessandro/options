{
 "cells": [
  {
   "cell_type": "markdown",
   "id": "3f580f39-59a8-45d9-9312-2a48904a2158",
   "metadata": {},
   "source": [
    "## European Call Option with a fixed Knock-out"
   ]
  },
  {
   "cell_type": "code",
   "execution_count": 1,
   "id": "8e3e0d04-d142-4752-ade9-e6a920b2bf09",
   "metadata": {
    "tags": []
   },
   "outputs": [],
   "source": [
    "import numpy as np\n",
    "import pandas as pd\n",
    "from scipy import stats\n",
    "import matplotlib.pyplot as plt\n",
    "import math\n",
    "import datetime\n",
    "import pandas_datareader as pdr\n",
    "import datetime\n",
    "import yfinance as yf\n",
    "%matplotlib inline"
   ]
  },
  {
   "cell_type": "code",
   "execution_count": 2,
   "id": "f97dbeb4-5d22-4dad-8eb6-de1b0d8e1968",
   "metadata": {
    "tags": []
   },
   "outputs": [
    {
     "name": "stdout",
     "output_type": "stream",
     "text": [
      "[*********************100%%**********************]  1 of 1 completed\n"
     ]
    }
   ],
   "source": [
    "start_date=datetime.datetime(2017,11,28)\n",
    "end_date=datetime.datetime(2023,11,28)\n",
    "tickers = 'TSLA'\n",
    "prices = yf.download(tickers, start=start_date, end=end_date)"
   ]
  },
  {
   "cell_type": "code",
   "execution_count": 4,
   "id": "f8575b4a-637d-4d01-ac61-2eb8b4440e01",
   "metadata": {
    "tags": []
   },
   "outputs": [],
   "source": [
    "historical = prices['Adj Close'].dropna(how='all')"
   ]
  },
  {
   "cell_type": "code",
   "execution_count": 5,
   "id": "8f020aa3-0be5-4c8f-b8c0-14f825dbd0db",
   "metadata": {
    "tags": []
   },
   "outputs": [],
   "source": [
    "ret = historical.pct_change()[1:] #daily returns for the month"
   ]
  },
  {
   "cell_type": "code",
   "execution_count": 6,
   "id": "dc22f70c-c02d-4a0e-ba87-10b979263c2c",
   "metadata": {
    "tags": []
   },
   "outputs": [],
   "source": [
    "days = len(ret)\n",
    "sample_mean_tsla = np.mean(ret)\n",
    "sample_std_tsla = np.std(ret, ddof=1)"
   ]
  },
  {
   "cell_type": "code",
   "execution_count": 14,
   "id": "cd707e28-84a9-45fe-9da1-3357fbff6d64",
   "metadata": {
    "tags": []
   },
   "outputs": [],
   "source": [
    "lastPrice= S0 = historical.iloc[-1]"
   ]
  },
  {
   "cell_type": "markdown",
   "id": "b3336ca5-5bfb-4c20-ac9b-030d94e8ddb8",
   "metadata": {},
   "source": [
    "## Here we keep the strike price of the European Option to 260, but set a knock-out at 280, this will limit the payoff, reduce the average of payoffs, hence reduce the price of the option"
   ]
  },
  {
   "cell_type": "code",
   "execution_count": 16,
   "id": "04f38cea-a541-4146-a793-e33b2903033e",
   "metadata": {
    "tags": []
   },
   "outputs": [
    {
     "data": {
      "text/plain": [
       "(0.11790469559909474,\n",
       " array([0.16377305, 0.08588809, 0.11857446, 0.11018229, 0.16555139,\n",
       "        0.08973333, 0.11221112, 0.09127628, 0.08969505, 0.15216189]))"
      ]
     },
     "execution_count": 16,
     "metadata": {},
     "output_type": "execute_result"
    }
   ],
   "source": [
    "import numpy as np\n",
    "\n",
    "# Function to price a European call option using Monte Carlo simulation\n",
    "def monte_carlo_option_price(S, K, r, T, vol, num_simulations, num_results):\n",
    "    dt = 1/252  # Time step, assuming 252 trading days in a year\n",
    "    num_days = int(T * 252)  # Number of days until expiration\n",
    "\n",
    "    # Array to store the final option prices from each set of simulations\n",
    "    final_option_prices = np.zeros(num_results)\n",
    "\n",
    "    for simulation in range(num_results):\n",
    "        simulated_prices = np.zeros((num_simulations, num_days))\n",
    "\n",
    "        for i in range(num_simulations):\n",
    "            price_path = np.zeros(num_days)\n",
    "            price_path[0] = S\n",
    "            for day in range(1, num_days):\n",
    "                drift = (r - 0.5 * vol ** 2) * dt\n",
    "                diffusion = vol * np.sqrt(dt) * np.random.normal(0, 1)\n",
    "                price_path[day] = price_path[day - 1] * np.exp(drift + diffusion)\n",
    "                # Implementing the knock-out option feature\n",
    "                if price_path[day] >= 280:\n",
    "                    price_path[day:] = 0\n",
    "                    break\n",
    "\n",
    "            simulated_prices[i, :] = price_path\n",
    "\n",
    "        # Calculate the payoff for each simulation at expiration\n",
    "        option_payoffs = np.maximum(simulated_prices[:, -1] - K, 0)\n",
    "        # Calculate the price of the option as the average of discounted payoffs\n",
    "        option_price = np.exp(-r * T) * np.mean(option_payoffs)\n",
    "        final_option_prices[simulation] = option_price\n",
    "\n",
    "    # Calculate the average option price across all sets of simulations for higher precision\n",
    "    average_option_price = np.mean(final_option_prices)\n",
    "    return average_option_price, final_option_prices\n",
    "\n",
    "# Option parameters\n",
    "S0 = lastPrice  # Current stock price (assuming this is the value of S)\n",
    "K = 260  # Strike price\n",
    "r = 0.05  # Risk-free interest rate\n",
    "T = 1  # Time to expiration (in years)\n",
    "sample_std_tsla = sample_std_tsla  # An assumed value for Tesla's volatility\n",
    "num_simulations = 1000  # Number of Monte Carlo simulations\n",
    "num_results = 10  # Number of different simulation results to store\n",
    "\n",
    "# European Knock-Out Call Option Price with Monte Carlo Simulation\n",
    "average_option_price, all_option_prices = monte_carlo_option_price(S0, K, r, T, sample_std_tsla, num_simulations, num_results)\n",
    "\n",
    "average_option_price, all_option_prices\n"
   ]
  }
 ],
 "metadata": {
  "kernelspec": {
   "display_name": "Python 3 (ipykernel)",
   "language": "python",
   "name": "python3"
  },
  "language_info": {
   "codemirror_mode": {
    "name": "ipython",
    "version": 3
   },
   "file_extension": ".py",
   "mimetype": "text/x-python",
   "name": "python",
   "nbconvert_exporter": "python",
   "pygments_lexer": "ipython3",
   "version": "3.11.4"
  }
 },
 "nbformat": 4,
 "nbformat_minor": 5
}
